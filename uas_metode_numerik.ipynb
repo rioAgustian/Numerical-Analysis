{
  "nbformat": 4,
  "nbformat_minor": 0,
  "metadata": {
    "colab": {
      "name": "uas_metode_numerik.ipynb",
      "provenance": [],
      "authorship_tag": "ABX9TyN5j8DbvV7kNZMzJQ27EITQ",
      "include_colab_link": true
    },
    "kernelspec": {
      "name": "python3",
      "display_name": "Python 3"
    },
    "language_info": {
      "name": "python"
    }
  },
  "cells": [
    {
      "cell_type": "markdown",
      "metadata": {
        "id": "view-in-github",
        "colab_type": "text"
      },
      "source": [
        "<a href=\"https://colab.research.google.com/github/rioAgustian/Numerical-Analysis/blob/main/uas_metode_numerik.ipynb\" target=\"_parent\"><img src=\"https://colab.research.google.com/assets/colab-badge.svg\" alt=\"Open In Colab\"/></a>"
      ]
    },
    {
      "cell_type": "markdown",
      "source": [
        "# **Ujian Akhir Semester Metode Numerik (2022)**\n",
        "\n",
        "**Rio Agustian Gilang Fernando, 4211420004, Fisika**\n",
        "\n",
        "**Fakultas Matematika dan Ilmu Pengetahuan Alam**\n",
        "\n",
        "**Universitas Negeri Semarang**"
      ],
      "metadata": {
        "id": "sLt-kRAMFEz-"
      }
    },
    {
      "cell_type": "markdown",
      "source": [
        "## **1. Regresi Linear Berganda**"
      ],
      "metadata": {
        "id": "QMHA6kRGFMwI"
      }
    },
    {
      "cell_type": "code",
      "execution_count": 44,
      "metadata": {
        "colab": {
          "base_uri": "https://localhost:8080/"
        },
        "id": "FdfPRL6NE-K3",
        "outputId": "043663da-2b71-4524-82b5-e6adcbb4cc3b"
      },
      "outputs": [
        {
          "output_type": "stream",
          "name": "stdout",
          "text": [
            "Persamaan: \n",
            "y = 14.1667 + -6.6667x1 + 2.4167x2\n",
            "\n",
            "Koefisien korelasi: \n",
            "r = 0.4860\n",
            "\n",
            "Galat standar taksiran: \n",
            "Sr = 14.1559\n"
          ]
        }
      ],
      "source": [
        "import numpy as np\n",
        "\n",
        "# data\n",
        "x1 = np.array([0, 1, 2, 0, 1, 2])\n",
        "x2 = np.array([2, 2, 4, 4, 6, 6])\n",
        "y  = np.array([19, 12, 11, 24, 22, 15])\n",
        "\n",
        "n = len(y)\n",
        "sx1 = sum(x1)\n",
        "sx2 = sum(x2)\n",
        "sy  = sum(y) \n",
        "sx1_sqr = sum(x1**2)\n",
        "sx2_sqr = sum(x2**2)\n",
        "sy_sqr  = sum(y**2)\n",
        "sx1y = sum(x1*y)\n",
        "sx2y = sum(x2*y)\n",
        "sx1x2 = sum(x1*x2)\n",
        "\n",
        "# matriks berikut dibuat untuk, mentukan nilai a0, a1, dan a2\n",
        "A = [[n,   sx1,     sx2  ],\n",
        "     [sx1, sx1_sqr, sx1x2],\n",
        "     [sx2, sx1x2, sx2_sqr]]\n",
        "B = [sy, sx1y, sx2y]\n",
        "\n",
        "M  = [[n,  sx1,     sx2    ],\n",
        "     [sx1, sx1_sqr, sx1x2  ],\n",
        "     [sx2, sx1x2,   sx2_sqr]]\n",
        "M1 = [[sy,   sx1,     sx2 ],\n",
        "     [sx1y, sx1_sqr, sx1x2],\n",
        "     [sx2y, sx1x2, sx2_sqr]]\n",
        "M2 = [[n,   sy,  sx2    ],\n",
        "     [sx1, sx1y, sx1x2  ],\n",
        "     [sx2, sx2y, sx2_sqr]]\n",
        "M3 = [[n,   sx1,    sy  ],\n",
        "     [sx1, sx1_sqr, sx1y],\n",
        "     [sx2, sx1x2,   sx2y]]\n",
        "\n",
        "# nilai a0, a1, dan a2\n",
        "a0 = np.linalg.det(M1)/np.linalg.det(M)\n",
        "a1 = np.linalg.det(M2)/np.linalg.det(M)\n",
        "a2 = np.linalg.det(M3)/np.linalg.det(M)\n",
        "\n",
        "# koefisien korelasi\n",
        "r = np.sqrt(\n",
        "    ((a1*sx1y) + (a2*sx2y)) / sy_sqr\n",
        ")\n",
        "\n",
        "# galat standar taksiran\n",
        "s = np.sqrt(\n",
        "    (sy_sqr - a0*sy - a1*sx1y - sx2y) / (n - 3)\n",
        "    )\n",
        "\n",
        "# hasil \n",
        "# maksud \"4\" di samping f adalah banyaknya digit di belakang koma\n",
        "a = \"Persamaan: \\ny = {0:0.4f} + {1:0.4f}x1 + {2:0.4f}x2\".format(a0,a1,a2)\n",
        "b = \"\\n\\nKoefisien korelasi: \\nr = {0:0.4f}\".format(r)\n",
        "c = \"\\n\\nGalat standar taksiran: \\nSr = {0:0.4f}\".format(s)\n",
        "print(a + b + c)"
      ]
    },
    {
      "cell_type": "markdown",
      "source": [
        "## **2. Interpolasi Polinomial Orde-3** "
      ],
      "metadata": {
        "id": "8s79KjTNH7Gn"
      }
    },
    {
      "cell_type": "code",
      "source": [
        "# interpolasi yang digunakan adalah polinom Newton\n",
        "def new_interp(x, y, t):\n",
        "\n",
        "  # menentukan koefisien polinom\n",
        "  n = len(y)\n",
        "  koef = np.zeros([n, n])\n",
        "  koef[:, 0] = y\n",
        "  for j in range(1, n):\n",
        "      for i in range(n-j):\n",
        "          koef[i][j] = (koef[i+1][j-1] - koef[i][j-1]) / (x[i+j]-x[i])\n",
        "  c = koef[0, :]\n",
        "\n",
        "  # menghitung interpolasi di \"t\"\n",
        "  n = len(x) - 1 \n",
        "  p = c[n]\n",
        "  for k in range(1, n+1):\n",
        "    p = c[n-k] + (t - x[n-k]) * p\n",
        "  return p\n",
        "\n",
        "# data \n",
        "x_data = np.array([93, 96.2, 100, 104.2, 108.7])\n",
        "y_data = np.array([11.38, 12.8, 14.7, 17.07, 19.91])\n",
        "x_point = 97.66\n",
        "\n",
        "# karena ingin polinomial berderajat 3, maka\n",
        "# data yang digunakan adalah 4 titik\n",
        "y_point = new_interp(x_data[0:-1], y_data[0:-1], x_point)\n",
        "\n",
        "d = \"Hasil interpolasi di titik x = {0:0.2f} adalah:\".format(x_point)\n",
        "e = \"\\ny = {0:0.2f}\".format(y_point)\n",
        "print(d + e)"
      ],
      "metadata": {
        "colab": {
          "base_uri": "https://localhost:8080/"
        },
        "id": "kHtMfZhyILKB",
        "outputId": "8ec7aa1b-2420-4a75-e38a-1baf771c9859"
      },
      "execution_count": 45,
      "outputs": [
        {
          "output_type": "stream",
          "name": "stdout",
          "text": [
            "Hasil interpolasi di titik x = 97.66 adalah:\n",
            "y = 13.50\n"
          ]
        }
      ]
    },
    {
      "cell_type": "code",
      "source": [
        "import matplotlib.pyplot as plt\n",
        "t = np.arange(min(x_data[0:-1] -1), max(x_data[0:-1] + 1), 0.01)\n",
        "y_interp = new_interp(x_data[0:-1], y_data[0:-1], t)\n",
        "\n",
        "plt.scatter(x_data[0:-1], y_data[0:-1], label=\"data point\")\n",
        "plt.scatter(x_point, y_point, label=\"interpolasi di x = 97.66\")\n",
        "plt.plot(t, y_interp, label=\"interpolasi sepanjang data\")\n",
        "plt.legend()\n",
        "plt.show()"
      ],
      "metadata": {
        "colab": {
          "base_uri": "https://localhost:8080/",
          "height": 269
        },
        "id": "Qvxu2OifO9Jn",
        "outputId": "6b276f8b-74b5-42bf-9634-4e5ad0f5347b"
      },
      "execution_count": 46,
      "outputs": [
        {
          "output_type": "display_data",
          "data": {
            "text/plain": [
              "<Figure size 432x288 with 1 Axes>"
            ],
            "image/png": "[encoded data removed]"
          },
          "metadata": {
            "needs_background": "light"
          }
        }
      ]
    },
    {
      "cell_type": "markdown",
      "source": [
        "## **3. Turunan Numerik dengan Metode Centered Infinite Difference**"
      ],
      "metadata": {
        "id": "P9JJTOnHKVNk"
      }
    },
    {
      "cell_type": "code",
      "source": [
        "import numpy as np\n",
        "\n",
        "# fungsi yang ingin diturunkan\n",
        "def f(x):\n",
        "  a = np.where(x==0, 1, (np.exp(x)-1)/x)\n",
        "  return a\n",
        "\n",
        "x0 = 0    # start\n",
        "xn = 1    # stop\n",
        "h  = 0.01 # step-size\n",
        "x  = np.arange(x0, xn+h, h)\n",
        "y  = (f(x+h)-f(x-h))/(2*h) \n",
        "print(\"x \\t y \\t dy/dx\")\n",
        "for i in range(len(y)-1):\n",
        "  print(\"{0:.2f}\\t{1:.3f}\\t{2:.3f}\".format(x[i], f(x[i]), y[i]))"
      ],
      "metadata": {
        "colab": {
          "base_uri": "https://localhost:8080/"
        },
        "id": "QcyKU8JlKpqE",
        "outputId": "ab3510ca-256b-4abb-ec24-0e00ace8f473"
      },
      "execution_count": 49,
      "outputs": [
        {
          "output_type": "stream",
          "name": "stdout",
          "text": [
            "x \t y \t dy/dx\n",
            "0.00\t1.000\t0.500\n",
            "0.01\t1.005\t0.503\n",
            "0.02\t1.010\t0.507\n",
            "0.03\t1.015\t0.510\n",
            "0.04\t1.020\t0.514\n",
            "0.05\t1.025\t0.517\n",
            "0.06\t1.031\t0.520\n",
            "0.07\t1.036\t0.524\n",
            "0.08\t1.041\t0.527\n",
            "0.09\t1.046\t0.531\n",
            "0.10\t1.052\t0.535\n",
            "0.11\t1.057\t0.538\n",
            "0.12\t1.062\t0.542\n",
            "0.13\t1.068\t0.546\n",
            "0.14\t1.073\t0.549\n",
            "0.15\t1.079\t0.553\n",
            "0.16\t1.084\t0.557\n",
            "0.17\t1.090\t0.560\n",
            "0.18\t1.096\t0.564\n",
            "0.19\t1.101\t0.568\n",
            "0.20\t1.107\t0.572\n",
            "0.21\t1.113\t0.576\n",
            "0.22\t1.119\t0.580\n",
            "0.23\t1.124\t0.584\n",
            "0.24\t1.130\t0.588\n",
            "0.25\t1.136\t0.592\n",
            "0.26\t1.142\t0.596\n",
            "0.27\t1.148\t0.600\n",
            "0.28\t1.154\t0.604\n",
            "0.29\t1.160\t0.608\n",
            "0.30\t1.166\t0.612\n",
            "0.31\t1.172\t0.616\n",
            "0.32\t1.179\t0.621\n",
            "0.33\t1.185\t0.625\n",
            "0.34\t1.191\t0.629\n",
            "0.35\t1.197\t0.634\n",
            "0.36\t1.204\t0.638\n",
            "0.37\t1.210\t0.642\n",
            "0.38\t1.217\t0.647\n",
            "0.39\t1.223\t0.651\n",
            "0.40\t1.230\t0.656\n",
            "0.41\t1.236\t0.660\n",
            "0.42\t1.243\t0.665\n",
            "0.43\t1.249\t0.669\n",
            "0.44\t1.256\t0.674\n",
            "0.45\t1.263\t0.679\n",
            "0.46\t1.270\t0.683\n",
            "0.47\t1.277\t0.688\n",
            "0.48\t1.283\t0.693\n",
            "0.49\t1.290\t0.698\n",
            "0.50\t1.297\t0.703\n",
            "0.51\t1.304\t0.707\n",
            "0.52\t1.312\t0.712\n",
            "0.53\t1.319\t0.717\n",
            "0.54\t1.326\t0.722\n",
            "0.55\t1.333\t0.727\n",
            "0.56\t1.340\t0.732\n",
            "0.57\t1.348\t0.738\n",
            "0.58\t1.355\t0.743\n",
            "0.59\t1.363\t0.748\n",
            "0.60\t1.370\t0.753\n",
            "0.61\t1.378\t0.758\n",
            "0.62\t1.385\t0.764\n",
            "0.63\t1.393\t0.769\n",
            "0.64\t1.401\t0.775\n",
            "0.65\t1.409\t0.780\n",
            "0.66\t1.416\t0.786\n",
            "0.67\t1.424\t0.791\n",
            "0.68\t1.432\t0.797\n",
            "0.69\t1.440\t0.802\n",
            "0.70\t1.448\t0.808\n",
            "0.71\t1.456\t0.814\n",
            "0.72\t1.464\t0.819\n",
            "0.73\t1.473\t0.825\n",
            "0.74\t1.481\t0.831\n",
            "0.75\t1.489\t0.837\n",
            "0.76\t1.498\t0.843\n",
            "0.77\t1.506\t0.849\n",
            "0.78\t1.515\t0.855\n",
            "0.79\t1.523\t0.861\n",
            "0.80\t1.532\t0.867\n",
            "0.81\t1.541\t0.873\n",
            "0.82\t1.549\t0.879\n",
            "0.83\t1.558\t0.886\n",
            "0.84\t1.567\t0.892\n",
            "0.85\t1.576\t0.898\n",
            "0.86\t1.585\t0.905\n",
            "0.87\t1.594\t0.911\n",
            "0.88\t1.603\t0.918\n",
            "0.89\t1.613\t0.924\n",
            "0.90\t1.622\t0.931\n",
            "0.91\t1.631\t0.938\n",
            "0.92\t1.641\t0.944\n",
            "0.93\t1.650\t0.951\n",
            "0.94\t1.660\t0.958\n",
            "0.95\t1.669\t0.965\n",
            "0.96\t1.679\t0.972\n",
            "0.97\t1.689\t0.979\n",
            "0.98\t1.698\t0.986\n",
            "0.99\t1.708\t0.993\n"
          ]
        },
        {
          "output_type": "stream",
          "name": "stderr",
          "text": [
            "/usr/local/lib/python3.7/dist-packages/ipykernel_launcher.py:5: RuntimeWarning: invalid value encountered in true_divide\n",
            "  \"\"\"\n",
            "/usr/local/lib/python3.7/dist-packages/ipykernel_launcher.py:5: RuntimeWarning: invalid value encountered in double_scalars\n",
            "  \"\"\"\n"
          ]
        }
      ]
    },
    {
      "cell_type": "code",
      "source": [
        "import matplotlib.pyplot as plt\n",
        "\n",
        "plt.plot(x, f(x), label=\"fungsi y\")\n",
        "plt.plot(x, y, label=\"fungsi dy/dx\")\n",
        "plt.legend()\n",
        "plt.show()"
      ],
      "metadata": {
        "colab": {
          "base_uri": "https://localhost:8080/",
          "height": 300
        },
        "id": "z9KI8dOUQIRW",
        "outputId": "6e5a384f-547a-4eba-9aa6-4b1448a3bb8b"
      },
      "execution_count": 50,
      "outputs": [
        {
          "output_type": "stream",
          "name": "stderr",
          "text": [
            "/usr/local/lib/python3.7/dist-packages/ipykernel_launcher.py:5: RuntimeWarning: invalid value encountered in true_divide\n",
            "  \"\"\"\n"
          ]
        },
        {
          "output_type": "display_data",
          "data": {
            "text/plain": [
              "<Figure size 432x288 with 1 Axes>"
            ],
            "image/png": "[encoded data removed]"
          },
          "metadata": {
            "needs_background": "light"
          }
        }
      ]
    }
  ]
}